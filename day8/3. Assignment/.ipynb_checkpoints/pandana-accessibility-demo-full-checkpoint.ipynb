{
 "cells": [
  {
   "cell_type": "markdown",
   "metadata": {},
   "source": [
    "# Pandana network accessibility demo\n",
    "\n",
    "This notebook uses pandana (v0.2) to download street network and points-of-interest data from OpenStreetMap and then calculate network accessibility to the points of interest. Note: pandana currently only runs on Python 2.\n",
    "\n",
    "  - [Pandana documentation](https://udst.github.io/pandana/network.html)\n",
    "  - [OSM Overpass API](https://wiki.openstreetmap.org/wiki/Overpass_API/Language_Guide) language documentation\n",
    "  - [Overpass Turbo query demo](http://overpass-turbo.eu/s/hdj) for schools or bars near Berkeley/Oakland\n",
    "\n",
    "For a simpler demo, check out [pandana-accessibility-demo-simple.ipynb](pandana-accessibility-demo-simple.ipynb)"
   ]
  },
  {
   "cell_type": "code",
   "execution_count": 1,
   "metadata": {},
   "outputs": [],
   "source": [
    "import pandana, time, os, pandas as pd, numpy as np\n",
    "from pandana.loaders import osm\n",
    "%matplotlib inline"
   ]
  },
  {
   "cell_type": "markdown",
   "metadata": {},
   "source": [
    "## 1. Set up configuration of script"
   ]
  },
  {
   "cell_type": "code",
   "execution_count": 2,
   "metadata": {},
   "outputs": [],
   "source": [
    "# configure search at a max distance of 1 km for up to the 10 nearest points-of-interest\n",
    "amenities = ['restaurant', 'bar', 'school']\n",
    "distance = 1000\n",
    "num_pois = 10\n",
    "num_categories = len(amenities) + 1 #one for each amenity, plus one extra for all of them combined\n",
    "\n",
    "# bounding box as a list of llcrnrlat, llcrnrlng, urcrnrlat, urcrnrlng\n",
    "bbox = [37.76, -122.35, 37.9, -122.17] #lat-long bounding box for berkeley/oakland"
   ]
  },
  {
   "cell_type": "code",
   "execution_count": 3,
   "metadata": {},
   "outputs": [],
   "source": [
    "# configure filenames to save/load POI and network datasets\n",
    "bbox_string = '_'.join([str(x) for x in bbox])\n",
    "net_filename = 'data/network_{}.h5'.format(bbox_string)\n",
    "poi_filename = 'data/pois_{}_{}.csv'.format('_'.join(amenities), bbox_string)"
   ]
  },
  {
   "cell_type": "code",
   "execution_count": 4,
   "metadata": {},
   "outputs": [],
   "source": [
    "# keyword arguments to pass for the matplotlib figure\n",
    "bbox_aspect_ratio = (bbox[2] - bbox[0]) / (bbox[3] - bbox[1])\n",
    "fig_kwargs = {'facecolor':'w', \n",
    "              'figsize':(10, 10 * bbox_aspect_ratio)}\n",
    "\n",
    "# keyword arguments to pass for scatter plots\n",
    "plot_kwargs = {'s':5, \n",
    "               'alpha':0.9, \n",
    "               'cmap':'viridis_r', \n",
    "               'edgecolor':'none'}\n",
    "\n",
    "# network aggregation plots are the same as regular scatter plots, but without a reversed colormap\n",
    "agg_plot_kwargs = plot_kwargs.copy()\n",
    "agg_plot_kwargs['cmap'] = 'viridis'\n",
    "\n",
    "# keyword arguments to pass for hex bin plots\n",
    "hex_plot_kwargs = {'gridsize':60,\n",
    "                   'alpha':0.9, \n",
    "                   'cmap':'viridis_r', \n",
    "                   'edgecolor':'none'}\n",
    "\n",
    "# keyword arguments to pass to make the colorbar\n",
    "cbar_kwargs = {}\n",
    "\n",
    "# keyword arguments to pass to basemap\n",
    "bmap_kwargs = {}\n",
    "\n",
    "# color to make the background of the axis\n",
    "bgcolor = 'k'"
   ]
  },
  {
   "cell_type": "markdown",
   "metadata": {},
   "source": [
    "## 2. Download points of interest (POIs) and network data from OSM\n",
    "\n",
    "First get the points of interest - either load an existing set for the specified amenities and bounding box from CSV, or get it from the OSM API."
   ]
  },
  {
   "cell_type": "code",
   "execution_count": 5,
   "metadata": {},
   "outputs": [
    {
     "name": "stdout",
     "output_type": "stream",
     "text": [
      "944 POIs loaded from CSV in 0.03 seconds\n"
     ]
    },
    {
     "data": {
      "text/html": [
       "<div>\n",
       "<style scoped>\n",
       "    .dataframe tbody tr th:only-of-type {\n",
       "        vertical-align: middle;\n",
       "    }\n",
       "\n",
       "    .dataframe tbody tr th {\n",
       "        vertical-align: top;\n",
       "    }\n",
       "\n",
       "    .dataframe thead th {\n",
       "        text-align: right;\n",
       "    }\n",
       "</style>\n",
       "<table border=\"1\" class=\"dataframe\">\n",
       "  <thead>\n",
       "    <tr style=\"text-align: right;\">\n",
       "      <th></th>\n",
       "      <th>amenity</th>\n",
       "      <th>name</th>\n",
       "      <th>lat</th>\n",
       "      <th>lon</th>\n",
       "    </tr>\n",
       "  </thead>\n",
       "  <tbody>\n",
       "    <tr>\n",
       "      <th>0</th>\n",
       "      <td>restaurant</td>\n",
       "      <td>Berkeley Thai House</td>\n",
       "      <td>37.867150</td>\n",
       "      <td>-122.258297</td>\n",
       "    </tr>\n",
       "    <tr>\n",
       "      <th>1</th>\n",
       "      <td>restaurant</td>\n",
       "      <td>Herbivore The Earthly Grill</td>\n",
       "      <td>37.864796</td>\n",
       "      <td>-122.267140</td>\n",
       "    </tr>\n",
       "    <tr>\n",
       "      <th>2</th>\n",
       "      <td>restaurant</td>\n",
       "      <td>Pat Brown's Grille</td>\n",
       "      <td>37.873327</td>\n",
       "      <td>-122.264884</td>\n",
       "    </tr>\n",
       "    <tr>\n",
       "      <th>3</th>\n",
       "      <td>restaurant</td>\n",
       "      <td>Tako Sushi</td>\n",
       "      <td>37.867231</td>\n",
       "      <td>-122.258692</td>\n",
       "    </tr>\n",
       "    <tr>\n",
       "      <th>4</th>\n",
       "      <td>restaurant</td>\n",
       "      <td>Julie's Healthy Cafe</td>\n",
       "      <td>37.868647</td>\n",
       "      <td>-122.257546</td>\n",
       "    </tr>\n",
       "  </tbody>\n",
       "</table>\n",
       "</div>"
      ],
      "text/plain": [
       "      amenity                         name        lat         lon\n",
       "0  restaurant          Berkeley Thai House  37.867150 -122.258297\n",
       "1  restaurant  Herbivore The Earthly Grill  37.864796 -122.267140\n",
       "2  restaurant           Pat Brown's Grille  37.873327 -122.264884\n",
       "3  restaurant                   Tako Sushi  37.867231 -122.258692\n",
       "4  restaurant         Julie's Healthy Cafe  37.868647 -122.257546"
      ]
     },
     "execution_count": 5,
     "metadata": {},
     "output_type": "execute_result"
    }
   ],
   "source": [
    "start_time = time.time()\n",
    "if os.path.isfile(poi_filename):\n",
    "    # if a points-of-interest file already exists, just load the dataset from that\n",
    "    pois = pd.read_csv(poi_filename)\n",
    "    method = 'loaded from CSV'\n",
    "else:   \n",
    "    # otherwise, query the OSM API for the specified amenities within the bounding box \n",
    "    osm_tags = '\"amenity\"~\"{}\"'.format('|'.join(amenities))\n",
    "    pois = osm.node_query(bbox[0], bbox[1], bbox[2], bbox[3], tags=osm_tags)\n",
    "    \n",
    "    # using the '\"amenity\"~\"school\"' returns preschools etc, so drop any that aren't just 'school' then save to CSV\n",
    "    pois = pois[pois['amenity'].isin(amenities)]\n",
    "    pois.to_csv(poi_filename, index=False, encoding='utf-8')\n",
    "    method = 'downloaded from OSM'\n",
    "    \n",
    "print('{:,} POIs {} in {:,.2f} seconds'.format(len(pois), method, time.time()-start_time))\n",
    "pois[['amenity', 'name', 'lat', 'lon']].head()"
   ]
  },
  {
   "cell_type": "code",
   "execution_count": 6,
   "metadata": {},
   "outputs": [
    {
     "data": {
      "text/plain": [
       "restaurant    761\n",
       "school        103\n",
       "bar            80\n",
       "Name: amenity, dtype: int64"
      ]
     },
     "execution_count": 6,
     "metadata": {},
     "output_type": "execute_result"
    }
   ],
   "source": [
    "# how many points of interest of each type of amenity did we retrieve?\n",
    "pois['amenity'].value_counts()"
   ]
  },
  {
   "cell_type": "markdown",
   "metadata": {},
   "source": [
    "Next get the street network data - either load an existing dataset for the specified bounding box from HDF5, or get it fresh from the OSM API."
   ]
  },
  {
   "cell_type": "code",
   "execution_count": 7,
   "metadata": {},
   "outputs": [
    {
     "name": "stdout",
     "output_type": "stream",
     "text": [
      "Requesting network data within bounding box from Overpass API in 1 request(s)\n",
      "Posting to http://www.overpass-api.de/api/interpreter with timeout=180, \"{'data': '[out:json][timeout:180];(way[\"highway\"][\"highway\"!~\"motor|proposed|construction|abandoned|platform|raceway\"][\"foot\"!~\"no\"][\"pedestrians\"!~\"no\"](37.76000000,-122.35000000,37.90000000,-122.17000000);>;);out;'}\"\n",
      "Downloaded 19,224.2KB from www.overpass-api.de in 3.14 seconds\n",
      "Downloaded OSM network data within bounding box from Overpass API in 1 request(s) and 3.79 seconds\n",
      "Returning OSM data with 125,567 nodes and 25,373 ways...\n",
      "Edge node pairs completed. Took 59.41 seconds\n",
      "Returning processed graph with 32,658 nodes and 46,342 edges...\n",
      "Completed OSM data download and Pandana node and edge table creation in 71.75 seconds\n"
     ]
    },
    {
     "ename": "AttributeError",
     "evalue": "'tuple' object has no attribute 'low_connectivity_nodes'",
     "output_type": "error",
     "traceback": [
      "\u001b[0;31m---------------------------------------------------------------------------\u001b[0m",
      "\u001b[0;31mAttributeError\u001b[0m                            Traceback (most recent call last)",
      "\u001b[0;32m<ipython-input-7-693cbbc8dc72>\u001b[0m in \u001b[0;36m<module>\u001b[0;34m()\u001b[0m\n\u001b[1;32m     10\u001b[0m \u001b[0;34m\u001b[0m\u001b[0m\n\u001b[1;32m     11\u001b[0m     \u001b[0;31m# identify nodes that are connected to fewer than some threshold of other nodes within a given distance\u001b[0m\u001b[0;34m\u001b[0m\u001b[0;34m\u001b[0m\u001b[0m\n\u001b[0;32m---> 12\u001b[0;31m     \u001b[0mlcn\u001b[0m \u001b[0;34m=\u001b[0m \u001b[0mnetwork\u001b[0m\u001b[0;34m.\u001b[0m\u001b[0mlow_connectivity_nodes\u001b[0m\u001b[0;34m(\u001b[0m\u001b[0mimpedance\u001b[0m\u001b[0;34m=\u001b[0m\u001b[0;36m1000\u001b[0m\u001b[0;34m,\u001b[0m \u001b[0mcount\u001b[0m\u001b[0;34m=\u001b[0m\u001b[0;36m10\u001b[0m\u001b[0;34m,\u001b[0m \u001b[0mimp_name\u001b[0m\u001b[0;34m=\u001b[0m\u001b[0;34m'distance'\u001b[0m\u001b[0;34m)\u001b[0m\u001b[0;34m\u001b[0m\u001b[0m\n\u001b[0m\u001b[1;32m     13\u001b[0m     \u001b[0mnetwork\u001b[0m\u001b[0;34m.\u001b[0m\u001b[0msave_hdf5\u001b[0m\u001b[0;34m(\u001b[0m\u001b[0mnet_filename\u001b[0m\u001b[0;34m,\u001b[0m \u001b[0mrm_nodes\u001b[0m\u001b[0;34m=\u001b[0m\u001b[0mlcn\u001b[0m\u001b[0;34m)\u001b[0m \u001b[0;31m#remove low-connectivity nodes and save to h5\u001b[0m\u001b[0;34m\u001b[0m\u001b[0m\n\u001b[1;32m     14\u001b[0m \u001b[0;34m\u001b[0m\u001b[0m\n",
      "\u001b[0;31mAttributeError\u001b[0m: 'tuple' object has no attribute 'low_connectivity_nodes'"
     ]
    }
   ],
   "source": [
    "start_time = time.time()\n",
    "if os.path.isfile(net_filename):\n",
    "    # if a street network file already exists, just load the dataset from that\n",
    "    network = pandana.network.Network.from_hdf5(net_filename)\n",
    "    method = 'loaded from HDF5'\n",
    "else:\n",
    "    # otherwise, query the OSM API for the street network within the specified bounding box\n",
    "    network = osm.network_from_bbox(bbox[0], bbox[1], bbox[2], bbox[3])\n",
    "    method = 'downloaded from OSM'\n",
    "    \n",
    "    # identify nodes that are connected to fewer than some threshold of other nodes within a given distance\n",
    "    lcn = network.low_connectivity_nodes(impedance=1000, count=10, imp_name='distance')\n",
    "    network.save_hdf5(net_filename, rm_nodes=lcn) #remove low-connectivity nodes and save to h5\n",
    "    \n",
    "print('Network with {:,} nodes {} in {:,.2f} secs'.format(len(network.node_ids), method, time.time()-start_time))"
   ]
  },
  {
   "cell_type": "markdown",
   "metadata": {},
   "source": [
    "When saving a Network to HDF5 it’s possible to exclude certain nodes. This can be useful when refining a network so that it includes only validated nodes. As an example, you can use the low_connectivity_nodes() method to identify nodes that may not be connected to the larger network, then exclude those nodes when saving to HDF5. In the current design of Pandana it’s not possible to modify a Network in place. Instead, save the network (with low-connectivity nodes removed) to HDF5 and then load it from that file by re-starting the notebook."
   ]
  },
  {
   "cell_type": "markdown",
   "metadata": {},
   "source": [
    "## 3. Calculate accessibility to any amenity we retrieved"
   ]
  },
  {
   "cell_type": "code",
   "execution_count": null,
   "metadata": {},
   "outputs": [],
   "source": [
    "# precomputes the range queries (the reachable nodes within this maximum distance)\n",
    "# so, as long as you use a smaller distance, cached results will be used\n",
    "network.precompute(distance + 1)"
   ]
  },
  {
   "cell_type": "code",
   "execution_count": null,
   "metadata": {},
   "outputs": [],
   "source": [
    "# initialize the underlying C++ points-of-interest engine\n",
    "network.init_pois(num_categories=num_categories, max_dist=distance, max_pois=num_pois)"
   ]
  },
  {
   "cell_type": "code",
   "execution_count": null,
   "metadata": {},
   "outputs": [],
   "source": [
    "# initialize a category for all amenities with the locations specified by the lon and lat columns\n",
    "network.set_pois(category='all', x_col=pois['lon'], y_col=pois['lat'])"
   ]
  },
  {
   "cell_type": "code",
   "execution_count": null,
   "metadata": {},
   "outputs": [],
   "source": [
    "# searches for the n nearest amenities (of all types) to each node in the network\n",
    "all_access = network.nearest_pois(distance=distance, category='all', num_pois=num_pois)\n",
    "\n",
    "# it returned a df with the number of columns equal to the number of POIs that are requested\n",
    "# each cell represents the network distance from the node to each of the n POIs\n",
    "print('{:,} nodes'.format(len(all_access)))\n",
    "all_access.head()"
   ]
  },
  {
   "cell_type": "markdown",
   "metadata": {},
   "source": [
    "## 4. Plot accessibility from each node to any amenity"
   ]
  },
  {
   "cell_type": "code",
   "execution_count": null,
   "metadata": {},
   "outputs": [],
   "source": [
    "# distance to the nearest amenity of any type\n",
    "n = 1\n",
    "bmap, fig, ax = network.plot(all_access[n], bbox=bbox, plot_kwargs=plot_kwargs, fig_kwargs=fig_kwargs, \n",
    "                             bmap_kwargs=bmap_kwargs, cbar_kwargs=cbar_kwargs)\n",
    "ax.set_axis_bgcolor(bgcolor)\n",
    "ax.set_title('Walking distance (m) to nearest amenity around Berkeley/Oakland', fontsize=15)\n",
    "fig.savefig('images/accessibility-all-east-bay.png', dpi=200, bbox_inches='tight')"
   ]
  },
  {
   "cell_type": "code",
   "execution_count": null,
   "metadata": {},
   "outputs": [],
   "source": [
    "# distance to the 5th nearest amenity of any type\n",
    "n = 5\n",
    "bmap, fig, ax = network.plot(all_access[n], bbox=bbox, plot_kwargs=plot_kwargs, fig_kwargs=fig_kwargs, \n",
    "                             bmap_kwargs=bmap_kwargs, cbar_kwargs=cbar_kwargs)\n",
    "ax.set_axis_bgcolor(bgcolor)\n",
    "ax.set_title('Walking distance (m) to 5th nearest amenity around Berkeley/Oakland', fontsize=15)\n",
    "fig.savefig('images/accessibility-all-5th-east-bay.png', dpi=200, bbox_inches='tight')"
   ]
  },
  {
   "cell_type": "code",
   "execution_count": null,
   "metadata": {},
   "outputs": [],
   "source": [
    "# distance to the nearest amenity of any type, as hexbins\n",
    "bmap, fig, ax = network.plot(all_access[1], bbox=bbox, plot_type='hexbin', plot_kwargs=hex_plot_kwargs, \n",
    "                             fig_kwargs=fig_kwargs, bmap_kwargs=bmap_kwargs, cbar_kwargs=cbar_kwargs)\n",
    "ax.set_axis_bgcolor(bgcolor)\n",
    "ax.set_title('Walking distance (m) to nearest amenity around Berkeley/Oakland', fontsize=15)\n",
    "fig.savefig('images/accessibility-all-hexbin-east-bay.png', dpi=200, bbox_inches='tight')"
   ]
  },
  {
   "cell_type": "markdown",
   "metadata": {
    "collapsed": true
   },
   "source": [
    "## 5. Calculate and plot accessibility separately for each amenity type\n",
    "\n",
    "The amenity types specified at the beginning area: restaurants, bars, and schools"
   ]
  },
  {
   "cell_type": "code",
   "execution_count": null,
   "metadata": {},
   "outputs": [],
   "source": [
    "# initialize each amenity category with the locations specified by the lon and lat columns\n",
    "for amenity in amenities:\n",
    "    pois_subset = pois[pois['amenity']==amenity]\n",
    "    network.set_pois(category=amenity, x_col=pois_subset['lon'], y_col=pois_subset['lat'])"
   ]
  },
  {
   "cell_type": "code",
   "execution_count": null,
   "metadata": {},
   "outputs": [],
   "source": [
    "# distance to the nearest restaurant\n",
    "restaurant_access = network.nearest_pois(distance=distance, category='restaurant', num_pois=num_pois)\n",
    "bmap, fig, ax = network.plot(restaurant_access[1], bbox=bbox, plot_kwargs=plot_kwargs, \n",
    "                             fig_kwargs=fig_kwargs, bmap_kwargs=bmap_kwargs, cbar_kwargs=cbar_kwargs)\n",
    "ax.set_axis_bgcolor(bgcolor)\n",
    "ax.set_title('Walking distance (m) to nearest restaurant around Berkeley/Oakland', fontsize=15)\n",
    "fig.savefig('images/accessibility-restaurant-east-bay.png', dpi=200, bbox_inches='tight')"
   ]
  },
  {
   "cell_type": "code",
   "execution_count": null,
   "metadata": {},
   "outputs": [],
   "source": [
    "# distance to the nearest bar\n",
    "bar_access = network.nearest_pois(distance=distance, category='bar', num_pois=num_pois)\n",
    "bmap, fig, ax = network.plot(bar_access[1], bbox=bbox, plot_kwargs=plot_kwargs, \n",
    "                             fig_kwargs=fig_kwargs, bmap_kwargs=bmap_kwargs, cbar_kwargs=cbar_kwargs)\n",
    "ax.set_axis_bgcolor(bgcolor)\n",
    "ax.set_title('Walking distance (m) to nearest bar around Berkeley/Oakland', fontsize=15)\n",
    "fig.savefig('images/accessibility-bar-east-bay.png', dpi=200, bbox_inches='tight')"
   ]
  },
  {
   "cell_type": "code",
   "execution_count": null,
   "metadata": {},
   "outputs": [],
   "source": [
    "# distance to the nearest school\n",
    "school_access = network.nearest_pois(distance=distance, category='school', num_pois=num_pois)\n",
    "bmap, fig, ax = network.plot(school_access[1], bbox=bbox, plot_kwargs=plot_kwargs, \n",
    "                             fig_kwargs=fig_kwargs, bmap_kwargs=bmap_kwargs, cbar_kwargs=cbar_kwargs)\n",
    "ax.set_axis_bgcolor(bgcolor)\n",
    "ax.set_title('Walking distance (m) to nearest school around Berkeley/Oakland', fontsize=15)\n",
    "fig.savefig('images/accessibility-school-east-bay.png', dpi=200, bbox_inches='tight')"
   ]
  },
  {
   "cell_type": "markdown",
   "metadata": {},
   "source": [
    "## 6. Network aggregation queries\n",
    "\n",
    "Normally you'd want to do this with population or square footage or something similar. I'm just using 'capacity' because it's a variable that I can pull from OSM. But, only like one POI in this dataset has a positive value for capacity (and its value is 100 and it's in downtown Oakland)."
   ]
  },
  {
   "cell_type": "code",
   "execution_count": null,
   "metadata": {},
   "outputs": [],
   "source": [
    "# first get the nearest node_id for each POI, based on its lat-lon\n",
    "pois['node_ids'] = network.get_node_ids(pois['lon'], pois['lat'])"
   ]
  },
  {
   "cell_type": "code",
   "execution_count": null,
   "metadata": {},
   "outputs": [],
   "source": [
    "# attach the value of the capacity variable to each corresponding node in the network\n",
    "network.set(pois['node_ids'], variable=pois['capacity'], name='capacity')"
   ]
  },
  {
   "cell_type": "code",
   "execution_count": null,
   "metadata": {},
   "outputs": [],
   "source": [
    "# sum (with linear decay) the capacities within specified distance from each node in network\n",
    "capacity_sum = network.aggregate(distance=distance, type='sum', decay='linear', name='capacity')"
   ]
  },
  {
   "cell_type": "code",
   "execution_count": null,
   "metadata": {},
   "outputs": [],
   "source": [
    "# plot the accessibility to 'capacity'\n",
    "bmap, fig, ax = network.plot(capacity_sum, bbox=bbox, plot_type='scatter', plot_kwargs=agg_plot_kwargs, \n",
    "                             fig_kwargs=fig_kwargs, bmap_kwargs=bmap_kwargs, cbar_kwargs=cbar_kwargs)\n",
    "ax.set_axis_bgcolor(bgcolor)"
   ]
  },
  {
   "cell_type": "markdown",
   "metadata": {
    "collapsed": true
   },
   "source": [
    "For a simpler demo, check out [pandana-accessibility-demo-simple.ipynb](pandana-accessibility-demo-simple.ipynb)"
   ]
  }
 ],
 "metadata": {
  "kernelspec": {
   "display_name": "Python 3",
   "language": "python",
   "name": "python3"
  },
  "language_info": {
   "codemirror_mode": {
    "name": "ipython",
    "version": 3
   },
   "file_extension": ".py",
   "mimetype": "text/x-python",
   "name": "python",
   "nbconvert_exporter": "python",
   "pygments_lexer": "ipython3",
   "version": "3.6.5"
  }
 },
 "nbformat": 4,
 "nbformat_minor": 1
}
